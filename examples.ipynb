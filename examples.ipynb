{
 "cells": [
  {
   "cell_type": "code",
   "execution_count": 3,
   "metadata": {},
   "outputs": [],
   "source": [
    "from utils import *\n",
    "\n",
    "np.set_printoptions(precision=3)\n",
    "\n",
    "Ns_array = [4, -4, 3, 5]\n",
    "\n",
    "# vec = linear_chain_DMI_coeffs_vector(4)\n",
    "max_d_order = 8\n",
    "\n",
    "M = coeff_matrix(Ns_array, max_d_order=max_d_order)\n",
    "# print(M)\n",
    "M_partially_diagonalized, M_sub_inv = diagonalize_coefficient_matrix(M)"
   ]
  },
  {
   "cell_type": "code",
   "execution_count": 4,
   "metadata": {},
   "outputs": [
    {
     "data": {
      "text/plain": [
       "array([[ 1.   ,  0.   , -0.   ,  0.   , -0.   , -0.   ,  0.   ,  0.   ,\n",
       "        -0.   ],\n",
       "       [-0.   ,  1.   ,  0.   ,  0.   , -0.382, -1.236,  1.   ,  1.854,\n",
       "        -1.236],\n",
       "       [ 0.   , -0.   ,  1.   , -0.   , -1.382, -0.236,  1.   ,  0.854,\n",
       "        -0.236],\n",
       "       [-0.   , -0.   , -0.   ,  1.   , -0.382, -2.236,  1.   ,  2.854,\n",
       "        -1.236]])"
      ]
     },
     "execution_count": 4,
     "metadata": {},
     "output_type": "execute_result"
    }
   ],
   "source": [
    "M_partially_diagonalized\n",
    "\n",
    "print(M_sub_inv)\n",
    "\n",
    "explain_results(M_sub_inv, M_partially_diagonalized, Ns_array)"
   ]
  },
  {
   "cell_type": "code",
   "execution_count": null,
   "metadata": {},
   "outputs": [],
   "source": []
  }
 ],
 "metadata": {
  "kernelspec": {
   "display_name": "Python 3",
   "language": "python",
   "name": "python3"
  },
  "language_info": {
   "codemirror_mode": {
    "name": "ipython",
    "version": 3
   },
   "file_extension": ".py",
   "mimetype": "text/x-python",
   "name": "python",
   "nbconvert_exporter": "python",
   "pygments_lexer": "ipython3",
   "version": "3.10.0"
  },
  "orig_nbformat": 4
 },
 "nbformat": 4,
 "nbformat_minor": 2
}
