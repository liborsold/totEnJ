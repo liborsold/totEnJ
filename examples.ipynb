{
 "cells": [
  {
   "cell_type": "code",
   "execution_count": 9,
   "metadata": {},
   "outputs": [],
   "source": [
    "from utils import *\n",
    "\n",
    "np.set_printoptions(precision=3, suppress=True)\n",
    "\n",
    "Ns_array = [4, -4, 3, 5, -5]\n",
    "\n",
    "# vec = linear_chain_DMI_coeffs_vector(4)\n",
    "max_d_order = 8\n",
    "\n",
    "M = coeff_matrix(Ns_array, max_d_order=max_d_order)\n",
    "# print(M)\n",
    "M_partially_diagonalized, M_sub_inv = diagonalize_coefficient_matrix(M)"
   ]
  },
  {
   "cell_type": "code",
   "execution_count": 10,
   "metadata": {},
   "outputs": [
    {
     "name": "stdout",
     "output_type": "stream",
     "text": [
      "obtained terms\n",
      "[[ 1.327 -0.142  0.037  0.106 -0.037 -0.069  0.     0.069  0.037]\n",
      " [ 0.     0.366  0.197  0.173 -0.516 -0.866  0.731  1.297 -0.656]\n",
      " [-1.375  0.267  0.233 -0.517 -0.365  0.733  0.028 -0.865  0.256]\n",
      " [-0.062 -0.272 -0.041  1.048 -0.279 -1.978  0.731  2.409 -0.956]\n",
      " [-0.25  -0.5   -0.25  -0.065  0.5    0.75  -0.703 -1.25   0.75 ]]\n"
     ]
    }
   ],
   "source": [
    "print(\"obtained terms\")\n",
    "print(M_partially_diagonalized)"
   ]
  },
  {
   "cell_type": "code",
   "execution_count": 11,
   "metadata": {},
   "outputs": [
    {
     "name": "stdout",
     "output_type": "stream",
     "text": [
      "summing coefficients\n",
      "[[ 5.475e-02  8.115e-02  1.236e-01  2.194e-17  1.377e-01]\n",
      " [-1.613e+14 -1.613e+14  2.150e+14  1.538e-01  2.150e+14]\n",
      " [-5.835e+14 -5.835e+14  7.780e+14  5.864e-03  7.780e+14]\n",
      " [-1.613e+14 -1.613e+14  2.150e+14  1.538e-01  2.150e+14]\n",
      " [-4.222e+14 -4.222e+14  5.629e+14 -1.479e-01  5.629e+14]]\n"
     ]
    }
   ],
   "source": [
    "print(\"summing coefficients\")\n",
    "print(M_sub_inv)"
   ]
  },
  {
   "cell_type": "code",
   "execution_count": 12,
   "metadata": {},
   "outputs": [
    {
     "name": "stdout",
     "output_type": "stream",
     "text": [
      "Having calculated the DFT total energies for supercells (4, -4, 3, 5, -3), corresponding to angles (90.0, -90.0, 120.0, 72.0, -120.0) degrees, \n",
      "                we obtain the ground-state energy E0 and the DMI coefficients d_n up to order n_max = 8\n",
      "                  with the following formulas:\n",
      "E0 = 0.055 E(4) + 0.081 E(-4) + 0.124 E(3) + 0.138 E(-3)\n",
      "0.366 d_1 + 0.197 d_2 + 0.173 d_3 + -0.516 d_4 + -0.866 d_5 + 0.731 d_6 + 1.297 d_7 + -0.656 d_8 = -161270811181328.094 E(4) + -161270811181327.938 E(-4) + 215027748241770.594 E(3) + 0.154 E(5) + 215027748241770.500 E(-3)\n",
      "0.267 d_1 + 0.233 d_2 + -0.517 d_3 + -0.365 d_4 + 0.733 d_5 + 0.028 d_6 + -0.865 d_7 + 0.256 d_8 = -583483276247312.125 E(4) + -583483276247312.250 E(-4) + 777977701663082.750 E(3) + 0.006 E(5) + 777977701663082.875 E(-3)\n",
      "-0.272 d_1 + -0.041 d_2 + 1.048 d_3 + -0.279 d_4 + -1.978 d_5 + 0.731 d_6 + 2.409 d_7 + -0.956 d_8 = -161270811181328.094 E(4) + -161270811181327.719 E(-4) + 215027748241770.500 E(3) + 0.154 E(5) + 215027748241770.312 E(-3)\n",
      "-0.500 d_1 + -0.250 d_2 + -0.065 d_3 + 0.500 d_4 + 0.750 d_5 + -0.703 d_6 + -1.250 d_7 + 0.750 d_8 = -422212465065983.812 E(4) + -422212465065983.938 E(-4) + 562949953421311.875 E(3) + -0.148 E(5) + 562949953421312.000 E(-3)\n"
     ]
    }
   ],
   "source": [
    "explain_results(M_sub_inv, M_partially_diagonalized, Ns_array)"
   ]
  }
 ],
 "metadata": {
  "kernelspec": {
   "display_name": "Python 3",
   "language": "python",
   "name": "python3"
  },
  "language_info": {
   "codemirror_mode": {
    "name": "ipython",
    "version": 3
   },
   "file_extension": ".py",
   "mimetype": "text/x-python",
   "name": "python",
   "nbconvert_exporter": "python",
   "pygments_lexer": "ipython3",
   "version": "3.10.0"
  },
  "orig_nbformat": 4
 },
 "nbformat": 4,
 "nbformat_minor": 2
}
