{
 "cells": [
  {
   "attachments": {},
   "cell_type": "markdown",
   "metadata": {},
   "source": [
    "# $J_{x,y}$, $J_z$ and $K_\\mathrm{u}$ calculation from total energy\n",
    "## Hexagonal mesh (1T-TMDs)"
   ]
  },
  {
   "cell_type": "code",
   "execution_count": 1,
   "metadata": {},
   "outputs": [],
   "source": [
    "from totEnJ.utils import *\n",
    "np.set_printoptions(precision=3, suppress=True)"
   ]
  },
  {
   "attachments": {},
   "cell_type": "markdown",
   "metadata": {},
   "source": [
    "Define the \n",
    "* supercell size $n_x$ in the DFT calculations and \n",
    "* the maximum number of nearest-neighbors considered (not implemented yet)"
   ]
  },
  {
   "cell_type": "code",
   "execution_count": 2,
   "metadata": {},
   "outputs": [],
   "source": [
    "# supercell size in x\n",
    "nx = 3\n",
    "\n",
    "# maximum order of nearest-neighbors; 5 is probably more than enough (physically)\n",
    "max_d_order = 5"
   ]
  },
  {
   "attachments": {},
   "cell_type": "markdown",
   "metadata": {},
   "source": [
    "Construct total energy expressions for all spin spirals (express as a matrix) \\\n",
    "and diagonalize the square submatrix of this rectangular matrix."
   ]
  },
  {
   "cell_type": "code",
   "execution_count": 3,
   "metadata": {},
   "outputs": [
    {
     "ename": "TypeError",
     "evalue": "coeff_matrix_Jxy_Jz_K() got an unexpected keyword argument 'nx'",
     "output_type": "error",
     "traceback": [
      "\u001b[1;31m---------------------------------------------------------------------------\u001b[0m",
      "\u001b[1;31mTypeError\u001b[0m                                 Traceback (most recent call last)",
      "Cell \u001b[1;32mIn[3], line 1\u001b[0m\n\u001b[1;32m----> 1\u001b[0m M, \u001b[39m*\u001b[39mstates \u001b[39m=\u001b[39m coeff_matrix_Jxy_Jz_K(nx\u001b[39m=\u001b[39;49m\u001b[39m3\u001b[39;49m, order_NN\u001b[39m=\u001b[39;49m\u001b[39m5\u001b[39;49m)\n\u001b[0;32m      2\u001b[0m \u001b[39mprint\u001b[39m(M)\n\u001b[0;32m      3\u001b[0m \u001b[39mprint\u001b[39m(states)\n",
      "\u001b[1;31mTypeError\u001b[0m: coeff_matrix_Jxy_Jz_K() got an unexpected keyword argument 'nx'"
     ]
    }
   ],
   "source": [
    "M, *states = coeff_matrix_Jxy_Jz_K(nx=3, order_NN=5)\n",
    "print(M)\n",
    "print(states)\n",
    "M_partially_diagonalized, M_sub_inv = diagonalize_coefficient_matrix(M)"
   ]
  },
  {
   "cell_type": "code",
   "execution_count": null,
   "metadata": {},
   "outputs": [
    {
     "name": "stdout",
     "output_type": "stream",
     "text": [
      "with DFT supercell sizes\n",
      "[-4, 4, 3, 5, 6]\n",
      "\n",
      "we obtain linear combinations of terms\n",
      "['E0', 'd_1', 'd_2', 'd_3', 'd_4', 'd_5', 'd_6', 'd_7', 'd_8']\n",
      "\n",
      "combined in the following way\n",
      "[[ 1.     0.     0.    -0.    -0.    -0.     0.     0.    -0.   ]\n",
      " [ 0.     1.     0.     0.    -0.    -1.     0.     1.    -0.   ]\n",
      " [-0.     0.     1.    -0.     0.     0.618 -2.618 -2.236  4.236]\n",
      " [ 0.     0.     0.     1.    -0.    -2.     0.     2.    -0.   ]\n",
      " [-0.     0.    -0.    -0.     1.     0.618 -2.618 -2.236  3.236]]\n",
      "\n",
      "by summing the energies\n",
      "['E(-4)', 'E(4)', 'E(3)', 'E(5)', 'E(6)']\n",
      "\n",
      "with prefactor coefficients\n",
      "[[ 0.125  0.125 -0.     0.     0.   ]\n",
      " [-0.144 -0.144  0.192  0.     0.096]\n",
      " [-0.002  0.402 -0.311 -0.551  0.348]\n",
      " [-0.019 -0.269  0.192  0.     0.096]\n",
      " [-0.002  0.402 -0.119 -0.551  0.252]]\n"
     ]
    }
   ],
   "source": [
    "print(\"with DFT supercell sizes\")\n",
    "print(nx)\n",
    "\n",
    "print('')\n",
    "\n",
    "print(\"we obtain linear combinations of terms\")\n",
    "print(['E0', 'Ku'] + [J for n in range(1, max_d_order+1) for J in [f'J_x{n:d}', f'J_z{n:d}']])\n",
    "\n",
    "print('')\n",
    "\n",
    "print('combined in the following way')\n",
    "print(M_partially_diagonalized)\n",
    "\n",
    "print('')\n",
    "\n",
    "print(\"by summing the energies E(cz, m1, m2, ...)\")\n",
    "print([f\"E({', '.join([str(cz_or_m)])})\" for state in states for cz_or_m in state])\n",
    "\n",
    "print('')\n",
    "\n",
    "print(\"with prefactor coefficients\")\n",
    "print(M_sub_inv)"
   ]
  },
  {
   "cell_type": "code",
   "execution_count": null,
   "metadata": {},
   "outputs": [
    {
     "name": "stdout",
     "output_type": "stream",
     "text": [
      "Having calculated the DFT total energies for supercells (-4, 4, 3, 5, 6), corresponding to angles (-90.0, 90.0, 120.0, 72.0, 60.0) degrees, \n",
      "                we obtain the ground-state energy E0 and the DMI coefficients d_n up to order n_max = 8\n",
      "                  with the following formulas:\n",
      "E0 = 0.125 E(-4) + 0.125 E(4)\n",
      "1.000 d_1 + -1.000 d_5 + 0.000 d_6 + 1.000 d_7 + -0.000 d_8 = -0.144 E(-4) + -0.144 E(4) + 0.192 E(3) + 0.000 E(5) + 0.096 E(6)\n",
      "1.000 d_2 + -0.000 d_3 + 0.618 d_5 + -2.618 d_6 + -2.236 d_7 + 4.236 d_8 = -0.002 E(-4) + 0.402 E(4) + -0.311 E(3) + -0.551 E(5) + 0.348 E(6)\n",
      "1.000 d_3 + -2.000 d_5 + 0.000 d_6 + 2.000 d_7 + -0.000 d_8 = -0.019 E(-4) + -0.269 E(4) + 0.192 E(3) + 0.000 E(5) + 0.096 E(6)\n",
      "1.000 d_4 + 0.618 d_5 + -2.618 d_6 + -2.236 d_7 + 3.236 d_8 = -0.002 E(-4) + 0.402 E(4) + -0.119 E(3) + -0.551 E(5) + 0.252 E(6)\n"
     ]
    }
   ],
   "source": [
    "explain_results_verbose(M_sub_inv, M_partially_diagonalized, Ns_array)"
   ]
  }
 ],
 "metadata": {
  "kernelspec": {
   "display_name": "Python 3",
   "language": "python",
   "name": "python3"
  },
  "language_info": {
   "codemirror_mode": {
    "name": "ipython",
    "version": 3
   },
   "file_extension": ".py",
   "mimetype": "text/x-python",
   "name": "python",
   "nbconvert_exporter": "python",
   "pygments_lexer": "ipython3",
   "version": "3.10.0"
  },
  "orig_nbformat": 4
 },
 "nbformat": 4,
 "nbformat_minor": 2
}
